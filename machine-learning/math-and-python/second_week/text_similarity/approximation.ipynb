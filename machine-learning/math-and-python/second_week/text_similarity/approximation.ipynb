{
 "cells": [
  {
   "cell_type": "markdown",
   "metadata": {},
   "source": [
    "# Аппроксимация функции"
   ]
  },
  {
   "cell_type": "code",
   "execution_count": 37,
   "metadata": {},
   "outputs": [],
   "source": [
    "import numpy as np\n",
    "import math\n",
    "import matplotlib.pyplot as plt\n",
    "\n",
    "from scipy.linalg import solve\n",
    "\n",
    "def f(x):\n",
    "    return math.sin(x / 5.0) * math.exp(x / 10.0) + 5 * math.exp(-x / 2.0)\n",
    "\n",
    "params = np.array([1, 4, 10, 15])\n",
    "a = np.zeros([params.shape[0], params.shape[0]])\n",
    "b = np.zeros((params.shape[0], 1))\n",
    "for i in np.arange(len(params)):\n",
    "    for j in np.arange(len(params)):\n",
    "        a[i, j] = params[i] ** j\n",
    "    b[i, 0] = f(params[i])\n",
    "result = solve(a, b).reshape(1, params.shape[0])\n",
    "with open('submission-2.txt', 'w') as file:\n",
    "    string = '{} {} {} {}'.format(*result[0])\n",
    "    file.write(string)"
   ]
  },
  {
   "cell_type": "code",
   "execution_count": 35,
   "metadata": {},
   "outputs": [
    {
     "name": "stdout",
     "output_type": "stream",
     "text": [
      "4.362641535118072 -1.2955258656948436 0.1933368470215116 -0.008235651173320552"
     ]
    }
   ],
   "source": [
    "!cat submission-2.txt"
   ]
  }
 ],
 "metadata": {
  "kernelspec": {
   "display_name": "Python 3",
   "language": "python",
   "name": "python3"
  },
  "language_info": {
   "codemirror_mode": {
    "name": "ipython",
    "version": 3
   },
   "file_extension": ".py",
   "mimetype": "text/x-python",
   "name": "python",
   "nbconvert_exporter": "python",
   "pygments_lexer": "ipython3",
   "version": "3.7.3"
  }
 },
 "nbformat": 4,
 "nbformat_minor": 2
}
