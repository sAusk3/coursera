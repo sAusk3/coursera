{
 "cells": [
  {
   "cell_type": "markdown",
   "metadata": {},
   "source": [
    "# Сравнение предложений"
   ]
  },
  {
   "cell_type": "code",
   "execution_count": 124,
   "metadata": {},
   "outputs": [],
   "source": [
    "import numpy as np\n",
    "import re\n",
    "\n",
    "from scipy.spatial import distance\n",
    "\n",
    "with open('sentences.txt', 'r') as file:\n",
    "    lines = file.readlines()\n",
    "    word_to_number = dict()\n",
    "    word_dicts = [dict() for i in range(len(lines))]\n",
    "    for i in range(len(lines)):\n",
    "        line = lines[i].lower().strip()\n",
    "        words = re.split('[^a-z]+', line)\n",
    "        words.pop()\n",
    "        for word in words:\n",
    "            if not word in word_to_number:\n",
    "                word_to_number[word] = len(word_to_number)\n",
    "            word_dicts[i][word_to_number[word]] = word_dicts[i].get(word_to_number[word], 0) + 1\n",
    "    matrix = np.zeros((len(lines), len(word_to_number)), dtype=int)\n",
    "    k = 0\n",
    "    for i in range(len(lines)):\n",
    "        for j in range(len(word_to_number)):\n",
    "            matrix[i, j] = word_dicts[i].get(j, 0)\n",
    "    distances = np.array([])\n",
    "    for i in range(1, matrix.shape[0]):\n",
    "        distances = np.append(distances, distance.cosine(matrix[0], matrix[i]))\n",
    "    min_index1 = 0\n",
    "    min_index2 = 1\n",
    "    for i in range(len(distances)):\n",
    "        if distances[i] < distances[min_index1]:\n",
    "            min_index2 = min_index1\n",
    "            min_index1 = i\n",
    "        elif distances[i] < distances[min_index2]:\n",
    "            min_index2 = i\n",
    "    with open('submission-1.txt', 'w') as submission:\n",
    "        result = '{} {}'.format(min_index1 + 1, min_index2 + 1)\n",
    "        submission.write(result)"
   ]
  }
 ],
 "metadata": {
  "kernelspec": {
   "display_name": "Python 3",
   "language": "python",
   "name": "python3"
  },
  "language_info": {
   "codemirror_mode": {
    "name": "ipython",
    "version": 3
   },
   "file_extension": ".py",
   "mimetype": "text/x-python",
   "name": "python",
   "nbconvert_exporter": "python",
   "pygments_lexer": "ipython3",
   "version": "3.7.3"
  }
 },
 "nbformat": 4,
 "nbformat_minor": 2
}
